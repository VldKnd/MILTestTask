{
 "cells": [
  {
   "cell_type": "code",
   "execution_count": 1,
   "metadata": {},
   "outputs": [],
   "source": [
    "### Utilities\n",
    "import os\n",
    "import json\n",
    "import random \n",
    "import argparse\n",
    "import warnings\n",
    "import numpy as np\n",
    "from tqdm import tqdm\n",
    "import copy\n",
    "\n",
    "### Torch\n",
    "import torch\n",
    "from torch import nn\n",
    "from torch.optim import AdamW\n",
    "from torchvision import transforms\n",
    "from torch.utils.data import DataLoader\n",
    "from torchvision.datasets import CIFAR10\n",
    "from torch.optim.lr_scheduler import MultiStepLR\n",
    "\n",
    "### Custom\n",
    "from src.model import model\n",
    "from src.train import train, validate\n",
    "from src.utils import Accuracy, AverageMeter"
   ]
  },
  {
   "cell_type": "code",
   "execution_count": 2,
   "metadata": {},
   "outputs": [
    {
     "data": {
      "text/plain": [
       "<torch._C.Generator at 0x7fd0eceb8bd0>"
      ]
     },
     "execution_count": 2,
     "metadata": {},
     "output_type": "execute_result"
    }
   ],
   "source": [
    "torch.manual_seed(42)"
   ]
  },
  {
   "cell_type": "markdown",
   "metadata": {},
   "source": [
    "### Configuration"
   ]
  },
  {
   "cell_type": "code",
   "execution_count": 3,
   "metadata": {},
   "outputs": [],
   "source": [
    "with open(\"src/cfg/cfg_64_200.json\") as configurations:\n",
    "    cfg, cfg_CIFAR, cfg_dataloader_train, cfg_dataloader_test, cfg_train = json.load(configurations).values()"
   ]
  },
  {
   "cell_type": "markdown",
   "metadata": {},
   "source": [
    "### Data"
   ]
  },
  {
   "cell_type": "code",
   "execution_count": 4,
   "metadata": {},
   "outputs": [],
   "source": [
    "trainset = CIFAR10(transform=transforms.Compose([\n",
    "                        transforms.RandomHorizontalFlip(),\n",
    "                        transforms.RandomCrop(32, 4),\n",
    "                        transforms.ToTensor(),\n",
    "                        transforms.Normalize(mean=[0.485, 0.456, 0.406],\n",
    "                                             std=[0.229, 0.224, 0.225])]\n",
    "                    ), **cfg_CIFAR, train=True)\n",
    "trainloader = DataLoader(trainset, **cfg_dataloader_train)\n",
    "\n",
    "testset = CIFAR10(transform=transforms.Compose([\n",
    "                        transforms.ToTensor(),\n",
    "                        transforms.Normalize(mean=[0.485, 0.456, 0.406],\n",
    "                                             std=[0.229, 0.224, 0.225])]\n",
    "                    ), **cfg_CIFAR, train=False)\n",
    "testloader = DataLoader(testset, **cfg_dataloader_test)"
   ]
  },
  {
   "cell_type": "markdown",
   "metadata": {},
   "source": [
    "### Model"
   ]
  },
  {
   "cell_type": "code",
   "execution_count": 5,
   "metadata": {},
   "outputs": [],
   "source": [
    "is_cuda = torch.cuda.is_available()\n",
    "from_checkpoint = os.path.exists(cfg[\"checkpoint_path\"])\n",
    "cfg[\"device\"] = torch.device(\"cuda\") if is_cuda \\\n",
    "            else torch.device(\"cpu\")\n",
    "\n",
    "\n",
    "ResNet20 = model().to(cfg[\"device\"])\n",
    "optimResNet20 = AdamW(ResNet20.parameters(), lr=1e-2)\n",
    "schedResNet20 = MultiStepLR(optimResNet20, last_epoch=-1,\n",
    "                            milestones=[100, 150], gamma=0.1)\n",
    "\n",
    "if from_checkpoint:\n",
    "    checkpoint = torch.load(cfg[\"checkpoint_path\"])\n",
    "    last_epoch = checkpoint[\"epoch\"] + 1\n",
    "    best_acc = checkpoint[\"best_acc\"]\n",
    "    ResNet20.load_state_dict(checkpoint[\"state_dict\"])\n",
    "    optimResNet20.load_state_dict(checkpoint[\"optimizer\"])\n",
    "    schedResNet20.load_state_dict(checkpoint[\"scheduler\"])\n",
    "    \n",
    "CELoss = nn.CrossEntropyLoss(reduction=\"sum\")\n",
    "Acc = Accuracy(reduction=\"sum\")"
   ]
  },
  {
   "cell_type": "code",
   "execution_count": 6,
   "metadata": {},
   "outputs": [
    {
     "name": "stderr",
     "output_type": "stream",
     "text": [
      "100%|██████████| 10/10 [00:02<00:00,  3.98it/s]"
     ]
    },
    {
     "name": "stdout",
     "output_type": "stream",
     "text": [
      "Cross Entropy: 0.374, Accuracy: 0.926\n"
     ]
    },
    {
     "name": "stderr",
     "output_type": "stream",
     "text": [
      "\n"
     ]
    }
   ],
   "source": [
    "ce, acc = validate(testloader, ResNet20, CELoss, Acc, cfg[\"device\"], verbose=True)\n",
    "print(\"Cross Entropy: {:.3f}, Accuracy: {:.3f}\".format(ce.avg, acc.avg))"
   ]
  },
  {
   "cell_type": "code",
   "execution_count": 13,
   "metadata": {},
   "outputs": [],
   "source": [
    "ResNet20PTQ = copy.deepcopy(ResNet20.to(torch.device(\"cpu\")))\n",
    "ResNet20PTQ.qconfig = torch.quantization.get_default_qconfig('fbgemm')"
   ]
  }
 ],
 "metadata": {
  "kernelspec": {
   "display_name": "Python 3",
   "language": "python",
   "name": "python3"
  },
  "language_info": {
   "codemirror_mode": {
    "name": "ipython",
    "version": 3
   },
   "file_extension": ".py",
   "mimetype": "text/x-python",
   "name": "python",
   "nbconvert_exporter": "python",
   "pygments_lexer": "ipython3",
   "version": "3.8.5"
  }
 },
 "nbformat": 4,
 "nbformat_minor": 4
}
