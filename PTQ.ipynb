{
 "cells": [
  {
   "cell_type": "code",
   "execution_count": 1,
   "metadata": {},
   "outputs": [],
   "source": [
    "### Utilities\n",
    "import os\n",
    "import json\n",
    "import random \n",
    "import argparse\n",
    "import warnings\n",
    "import numpy as np\n",
    "from tqdm import tqdm\n",
    "import copy\n",
    "\n",
    "### Torch\n",
    "import torch\n",
    "from torch import nn\n",
    "from torch.optim import AdamW\n",
    "from torchvision import transforms\n",
    "from torch.utils.data import DataLoader\n",
    "from torchvision.datasets import CIFAR10\n",
    "from torch.optim.lr_scheduler import MultiStepLR\n",
    "\n",
    "### Quantization\n",
    "from torch.quantization.qconfig import QConfig\n",
    "from torch.quantization.observer import MinMaxObserver, HistogramObserver\n",
    "from torch.quantization.observer import default_observer\n",
    "\n",
    "### Custom\n",
    "from src.model import model\n",
    "from src.train import train, validate\n",
    "from src.utils import Accuracy, AverageMeter, get_model_size"
   ]
  },
  {
   "cell_type": "markdown",
   "metadata": {},
   "source": [
    "### Configuration"
   ]
  },
  {
   "cell_type": "code",
   "execution_count": 2,
   "metadata": {},
   "outputs": [],
   "source": [
    "with open(\"cfg/cfg_64_200.json\") as configurations:\n",
    "    cfg, cfg_CIFAR, cfg_dataloader_train, cfg_dataloader_test, cfg_train = json.load(configurations).values()"
   ]
  },
  {
   "cell_type": "markdown",
   "metadata": {},
   "source": [
    "### Data"
   ]
  },
  {
   "cell_type": "code",
   "execution_count": 3,
   "metadata": {},
   "outputs": [],
   "source": [
    "trainset = CIFAR10(transform=transforms.Compose([\n",
    "                        transforms.RandomHorizontalFlip(),\n",
    "                        transforms.RandomCrop(32, 4),\n",
    "                        transforms.ToTensor(),\n",
    "                        transforms.Normalize(mean=[0.485, 0.456, 0.406],\n",
    "                                             std=[0.229, 0.224, 0.225])]\n",
    "                    ), **cfg_CIFAR, train=True)\n",
    "trainloader = DataLoader(trainset, **cfg_dataloader_train)\n",
    "\n",
    "testset = CIFAR10(transform=transforms.Compose([\n",
    "                        transforms.ToTensor(),\n",
    "                        transforms.Normalize(mean=[0.485, 0.456, 0.406],\n",
    "                                             std=[0.229, 0.224, 0.225])]\n",
    "                    ), **cfg_CIFAR, train=False)\n",
    "testloader = DataLoader(testset, **cfg_dataloader_test)"
   ]
  },
  {
   "cell_type": "markdown",
   "metadata": {},
   "source": [
    "### Model"
   ]
  },
  {
   "cell_type": "code",
   "execution_count": 4,
   "metadata": {},
   "outputs": [],
   "source": [
    "is_cuda = torch.cuda.is_available()\n",
    "from_checkpoint = os.path.exists(cfg[\"checkpoint_path\"])\n",
    "cfg[\"device\"] = torch.device(\"cuda\") if is_cuda \\\n",
    "            else torch.device(\"cpu\")\n",
    "\n",
    "\n",
    "ResNet20 = model().to(cfg[\"device\"])\n",
    "optimResNet20 = AdamW(ResNet20.parameters(), lr=1e-2)\n",
    "schedResNet20 = MultiStepLR(optimResNet20, last_epoch=-1,\n",
    "                            milestones=[100, 150], gamma=0.1)\n",
    "\n",
    "if from_checkpoint:\n",
    "    checkpoint = torch.load(cfg[\"checkpoint_path\"], map_location=cfg[\"device\"])\n",
    "    last_epoch = checkpoint[\"epoch\"] + 1\n",
    "    best_acc = checkpoint[\"best_acc\"]\n",
    "    ResNet20.load_state_dict(checkpoint[\"state_dict\"])\n",
    "    optimResNet20.load_state_dict(checkpoint[\"optimizer\"])\n",
    "    schedResNet20.load_state_dict(checkpoint[\"scheduler\"])\n",
    "    \n",
    "CELoss = nn.CrossEntropyLoss(reduction=\"sum\")\n",
    "Acc = Accuracy(reduction=\"sum\")"
   ]
  },
  {
   "cell_type": "code",
   "execution_count": 5,
   "metadata": {},
   "outputs": [
    {
     "name": "stdout",
     "output_type": "stream",
     "text": [
      "Load Checkpoint\n"
     ]
    },
    {
     "name": "stderr",
     "output_type": "stream",
     "text": [
      "100%|██████████| 10/10 [00:37<00:00,  3.78s/it]\n"
     ]
    },
    {
     "name": "stdout",
     "output_type": "stream",
     "text": [
      "Cross Entropy: 0.374, Accuracy: 0.926\n"
     ]
    }
   ],
   "source": [
    "print(\"Load Checkpoint\")\n",
    "ce, acc = validate(testloader, ResNet20, CELoss, Acc, cfg[\"device\"], verbose=True)\n",
    "print(\"Cross Entropy: {:.3f}, Accuracy: {:.3f}\".format(ce.avg, acc.avg))"
   ]
  },
  {
   "cell_type": "code",
   "execution_count": 34,
   "metadata": {},
   "outputs": [
    {
     "name": "stdout",
     "output_type": "stream",
     "text": [
      "Compute Statistics\n"
     ]
    },
    {
     "name": "stderr",
     "output_type": "stream",
     "text": [
      "100%|██████████| 10/10 [00:37<00:00,  3.72s/it]\n"
     ]
    },
    {
     "name": "stdout",
     "output_type": "stream",
     "text": [
      "Evaluate\n"
     ]
    },
    {
     "name": "stderr",
     "output_type": "stream",
     "text": [
      "100%|██████████| 10/10 [00:23<00:00,  2.32s/it]"
     ]
    },
    {
     "name": "stdout",
     "output_type": "stream",
     "text": [
      "Cross Entropy: 2.303, Accuracy: 0.100\n"
     ]
    },
    {
     "name": "stderr",
     "output_type": "stream",
     "text": [
      "\n"
     ]
    }
   ],
   "source": [
    "qconfig_int2 = QConfig(\n",
    "    activation=MinMaxObserver.with_args(\n",
    "        dtype=torch.quint8,\n",
    "        quant_min=0, \n",
    "        quant_max=1\n",
    "    ),\n",
    "    weight=MinMaxObserver.with_args(\n",
    "        dtype=torch.qint8,\n",
    "        quant_min=0, \n",
    "        quant_max=1\n",
    "    )\n",
    ")\n",
    "    \n",
    "ResNet20PTQint2 = torch.quantization.QuantWrapper(\n",
    "    copy.deepcopy(ResNet20)\n",
    ")\n",
    "\n",
    "ResNet20PTQint2.qconfig = qconfig_int2\n",
    "torch.quantization.prepare(ResNet20PTQint2, inplace=True)\n",
    "\n",
    "print(\"Compute Statistics\")\n",
    "ResNet20PTQint2.eval()\n",
    "ce, acc = validate(testloader, ResNet20PTQint2, CELoss, Acc, cfg[\"device\"], verbose=True)\n",
    "_ = torch.quantization.convert(ResNet20PTQint2, inplace=True)\n",
    "ResNet20PTQint2.eval()\n",
    "print(\"Evaluate\")\n",
    "ce, acc = validate(testloader, ResNet20PTQint2, CELoss, Acc, cfg[\"device\"], verbose=True)\n",
    "print(\"Cross Entropy: {:.3f}, Accuracy: {:.3f}\".format(ce.avg, acc.avg))"
   ]
  },
  {
   "cell_type": "code",
   "execution_count": 46,
   "metadata": {},
   "outputs": [
    {
     "name": "stdout",
     "output_type": "stream",
     "text": [
      "Compute Statistics\n"
     ]
    },
    {
     "name": "stderr",
     "output_type": "stream",
     "text": [
      "100%|██████████| 10/10 [00:37<00:00,  3.74s/it]\n"
     ]
    },
    {
     "name": "stdout",
     "output_type": "stream",
     "text": [
      "Evaluate\n"
     ]
    },
    {
     "name": "stderr",
     "output_type": "stream",
     "text": [
      "100%|██████████| 10/10 [00:22<00:00,  2.27s/it]"
     ]
    },
    {
     "name": "stdout",
     "output_type": "stream",
     "text": [
      "Cross Entropy: 13.108, Accuracy: 0.168\n"
     ]
    },
    {
     "name": "stderr",
     "output_type": "stream",
     "text": [
      "\n"
     ]
    }
   ],
   "source": [
    "qconfig_int4 = torch.quantization.qconfig.QConfig(\n",
    "    activation=MinMaxObserver.with_args(\n",
    "        dtype=torch.quint8,\n",
    "        quant_min=0, \n",
    "        quant_max=15\n",
    "    ),\n",
    "    weight=MinMaxObserver.with_args(\n",
    "        dtype=torch.qint8,\n",
    "        quant_min=-8, \n",
    "        quant_max=7\n",
    "    )\n",
    ")\n",
    "\n",
    "ResNet20PTQint4 = torch.quantization.QuantWrapper(\n",
    "    copy.deepcopy(ResNet20)\n",
    ")\n",
    "\n",
    "ResNet20PTQint4.qconfig = qconfig_int4\n",
    "torch.quantization.prepare(ResNet20PTQint4, inplace=True)\n",
    "\n",
    "print(\"Compute Statistics\")\n",
    "ResNet20PTQint4.eval()\n",
    "ce, acc = validate(testloader, ResNet20PTQint4, CELoss, Acc, cfg[\"device\"], verbose=True)\n",
    "_ = torch.quantization.convert(ResNet20PTQint4, inplace=True)\n",
    "ResNet20PTQint4.eval()\n",
    "print(\"Evaluate\")\n",
    "ce, acc = validate(testloader, ResNet20PTQint4, CELoss, Acc, cfg[\"device\"], verbose=True)\n",
    "print(\"Cross Entropy: {:.3f}, Accuracy: {:.3f}\".format(ce.avg, acc.avg))"
   ]
  },
  {
   "cell_type": "code",
   "execution_count": 45,
   "metadata": {},
   "outputs": [
    {
     "name": "stdout",
     "output_type": "stream",
     "text": [
      "Compute Statistics\n"
     ]
    },
    {
     "name": "stderr",
     "output_type": "stream",
     "text": [
      "100%|██████████| 10/10 [00:36<00:00,  3.64s/it]\n"
     ]
    },
    {
     "name": "stdout",
     "output_type": "stream",
     "text": [
      "Evaluate\n"
     ]
    },
    {
     "name": "stderr",
     "output_type": "stream",
     "text": [
      "100%|██████████| 10/10 [00:23<00:00,  2.38s/it]"
     ]
    },
    {
     "name": "stdout",
     "output_type": "stream",
     "text": [
      "Cross Entropy: 0.390, Accuracy: 0.922\n"
     ]
    },
    {
     "name": "stderr",
     "output_type": "stream",
     "text": [
      "\n"
     ]
    }
   ],
   "source": [
    "qconfig_int8 = torch.quantization.qconfig.QConfig(\n",
    "    activation=MinMaxObserver.with_args(\n",
    "        dtype=torch.quint8,\n",
    "        quant_min=0, \n",
    "        quant_max=255\n",
    "    ),\n",
    "    weight=MinMaxObserver.with_args(\n",
    "        dtype=torch.qint8,\n",
    "        quant_min=-128, \n",
    "        quant_max=127,\n",
    "    )\n",
    ")\n",
    "\n",
    "ResNet20PTQint8 = torch.quantization.QuantWrapper(\n",
    "    copy.deepcopy(ResNet20)\n",
    ")\n",
    "\n",
    "ResNet20PTQint8.qconfig = qconfig_int8\n",
    "torch.quantization.prepare(ResNet20PTQint8, inplace=True)\n",
    "\n",
    "print(\"Compute Statistics\")\n",
    "ResNet20PTQint8.eval()\n",
    "ce, acc = validate(testloader, ResNet20PTQint8, CELoss, Acc, cfg[\"device\"], verbose=True)\n",
    "_ = torch.quantization.convert(ResNet20PTQint8, inplace=True)\n",
    "ResNet20PTQint8.eval()\n",
    "print(\"Evaluate\")\n",
    "ce, acc = validate(testloader, ResNet20PTQint8, CELoss, Acc, cfg[\"device\"], verbose=True)\n",
    "print(\"Cross Entropy: {:.3f}, Accuracy: {:.3f}\".format(ce.avg, acc.avg))"
   ]
  },
  {
   "cell_type": "markdown",
   "metadata": {},
   "source": [
    "#### Compare size and speed execution"
   ]
  },
  {
   "cell_type": "code",
   "execution_count": 70,
   "metadata": {},
   "outputs": [
    {
     "name": "stdout",
     "output_type": "stream",
     "text": [
      "Normal Model Size: 1.124 MB\n",
      "Quantized Model Size: 0.012 MB\n"
     ]
    }
   ],
   "source": [
    "print(\"Normal Model Size: {:.3f} MB\\nQuantized Model Size: {:.3f} MB\".format(\n",
    "    get_model_size(ResNet20), get_model_size(ResNet20PTQint8)))"
   ]
  },
  {
   "cell_type": "markdown",
   "metadata": {},
   "source": [
    "Qunatized to int8 Model"
   ]
  },
  {
   "cell_type": "code",
   "execution_count": 71,
   "metadata": {},
   "outputs": [
    {
     "name": "stdout",
     "output_type": "stream",
     "text": [
      "22.9 s ± 283 ms per loop (mean ± std. dev. of 7 runs, 1 loop each)\n"
     ]
    }
   ],
   "source": [
    "%%timeit\n",
    "_ = validate(testloader, ResNet20PTQint8, CELoss, Acc, torch.device(\"cpu\"))"
   ]
  },
  {
   "cell_type": "markdown",
   "metadata": {},
   "source": [
    "Normal Model"
   ]
  },
  {
   "cell_type": "code",
   "execution_count": 72,
   "metadata": {},
   "outputs": [
    {
     "name": "stdout",
     "output_type": "stream",
     "text": [
      "35.8 s ± 480 ms per loop (mean ± std. dev. of 7 runs, 1 loop each)\n"
     ]
    }
   ],
   "source": [
    "%%timeit\n",
    "_ = validate(testloader, ResNet20, CELoss, Acc, torch.device(\"cpu\"))"
   ]
  }
 ],
 "metadata": {
  "interpreter": {
   "hash": "40d3a090f54c6569ab1632332b64b2c03c39dcf918b08424e98f38b5ae0af88f"
  },
  "kernelspec": {
   "display_name": "Python 3.9.7 ('base')",
   "language": "python",
   "name": "python3"
  },
  "language_info": {
   "codemirror_mode": {
    "name": "ipython",
    "version": 3
   },
   "file_extension": ".py",
   "mimetype": "text/x-python",
   "name": "python",
   "nbconvert_exporter": "python",
   "pygments_lexer": "ipython3",
   "version": "3.9.7"
  }
 },
 "nbformat": 4,
 "nbformat_minor": 4
}
