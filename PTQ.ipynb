{
 "cells": [
  {
   "cell_type": "code",
   "execution_count": 1,
   "metadata": {},
   "outputs": [],
   "source": [
    "### Utilities\n",
    "import os\n",
    "import json\n",
    "import numpy as np\n",
    "from time import time\n",
    "from tqdm import tqdm\n",
    "import copy\n",
    "\n",
    "### Torch\n",
    "import torch\n",
    "from torch import nn\n",
    "from torch.optim import AdamW\n",
    "from torchvision import transforms\n",
    "from torch.utils.data import DataLoader\n",
    "from torchvision.datasets import CIFAR10\n",
    "from torch.optim.lr_scheduler import MultiStepLR\n",
    "\n",
    "### Quantization\n",
    "from torch.quantization.qconfig import QConfig\n",
    "from torch.quantization.observer import MinMaxObserver\n",
    "\n",
    "### Custom\n",
    "from src.model import ResNet20\n",
    "from src.train import validate\n",
    "from src.utils import Accuracy, get_model_size\n",
    "from src.qmodel import *"
   ]
  },
  {
   "cell_type": "markdown",
   "metadata": {},
   "source": [
    "### Configuration"
   ]
  },
  {
   "cell_type": "code",
   "execution_count": 2,
   "metadata": {},
   "outputs": [],
   "source": [
    "with open(\"cfg/64_200.json\") as configurations:\n",
    "    cfg, cfg_CIFAR, cfg_dataloader_train, cfg_dataloader_test, cfg_train = json.load(configurations).values()"
   ]
  },
  {
   "cell_type": "markdown",
   "metadata": {},
   "source": [
    "### Data"
   ]
  },
  {
   "cell_type": "code",
   "execution_count": 3,
   "metadata": {},
   "outputs": [
    {
     "name": "stdout",
     "output_type": "stream",
     "text": [
      "Files already downloaded and verified\n",
      "Files already downloaded and verified\n"
     ]
    }
   ],
   "source": [
    "trainset = CIFAR10(transform=transforms.Compose([\n",
    "                        transforms.RandomHorizontalFlip(),\n",
    "                        transforms.RandomCrop(32, 4),\n",
    "                        transforms.ToTensor(),\n",
    "                        transforms.Normalize(mean=[0.485, 0.456, 0.406],\n",
    "                                             std=[0.229, 0.224, 0.225])]\n",
    "                    ), **cfg_CIFAR, train=True)\n",
    "trainloader = DataLoader(trainset, **cfg_dataloader_train)\n",
    "\n",
    "testset = CIFAR10(transform=transforms.Compose([\n",
    "                        transforms.ToTensor(),\n",
    "                        transforms.Normalize(mean=[0.485, 0.456, 0.406],\n",
    "                                             std=[0.229, 0.224, 0.225])]\n",
    "                    ), **cfg_CIFAR, train=False)\n",
    "testloader = DataLoader(testset, **cfg_dataloader_test)\n",
    "\n",
    "n_q, idxes = 10, torch.randperm(len(trainset))\n",
    "qloader = DataLoader([trainset[idxes[i]] for i in range(n_q)], **cfg_dataloader_train)"
   ]
  },
  {
   "cell_type": "markdown",
   "metadata": {},
   "source": [
    "### Model"
   ]
  },
  {
   "cell_type": "code",
   "execution_count": 4,
   "metadata": {},
   "outputs": [],
   "source": [
    "is_cuda = torch.cuda.is_available()\n",
    "from_checkpoint = os.path.exists(cfg[\"checkpoint_path\"])\n",
    "cfg[\"device\"] = torch.device(\"cuda\") if is_cuda \\\n",
    "            else torch.device(\"cpu\")\n",
    "cfg[\"q_device\"] = torch.device(\"cpu\")\n",
    "\n",
    "ResNet = ResNet20().to(cfg[\"device\"])\n",
    "CELoss = nn.CrossEntropyLoss(reduction=\"sum\")\n",
    "Acc = Accuracy(reduction=\"sum\")\n",
    "\n",
    "if from_checkpoint:\n",
    "    checkpoint = torch.load(cfg[\"checkpoint_path\"], map_location=cfg[\"device\"])\n",
    "    ResNet.load_state_dict(checkpoint[\"state_dict\"])\n"
   ]
  },
  {
   "cell_type": "code",
   "execution_count": 5,
   "metadata": {},
   "outputs": [
    {
     "name": "stdout",
     "output_type": "stream",
     "text": [
      "Load Checkpoint\n"
     ]
    },
    {
     "name": "stderr",
     "output_type": "stream",
     "text": [
      "100%|██████████| 10/10 [00:47<00:00,  4.79s/it]"
     ]
    },
    {
     "name": "stdout",
     "output_type": "stream",
     "text": [
      "Cross Entropy: 0.267, Accuracy: 0.921\n"
     ]
    },
    {
     "name": "stderr",
     "output_type": "stream",
     "text": [
      "\n"
     ]
    }
   ],
   "source": [
    "print(\"Load Checkpoint\")\n",
    "ce, acc = validate(testloader, ResNet, CELoss, Acc, cfg[\"device\"], verbose=True)\n",
    "print(\"Cross Entropy: {:.3f}, Accuracy: {:.3f}\".format(ce.avg, acc.avg))\n",
    "_ = ResNet.to(cfg[\"q_device\"])"
   ]
  },
  {
   "cell_type": "code",
   "execution_count": 14,
   "metadata": {},
   "outputs": [
    {
     "name": "stdout",
     "output_type": "stream",
     "text": [
      "Compute Statistics\n"
     ]
    },
    {
     "name": "stderr",
     "output_type": "stream",
     "text": [
      "100%|██████████| 1/1 [00:01<00:00,  1.29s/it]\n"
     ]
    },
    {
     "name": "stdout",
     "output_type": "stream",
     "text": [
      "Evaluate\n"
     ]
    },
    {
     "name": "stderr",
     "output_type": "stream",
     "text": [
      "100%|██████████| 10/10 [00:23<00:00,  2.35s/it]"
     ]
    },
    {
     "name": "stdout",
     "output_type": "stream",
     "text": [
      "Cross Entropy: 20.223, Accuracy: 0.111\n"
     ]
    },
    {
     "name": "stderr",
     "output_type": "stream",
     "text": [
      "\n"
     ]
    }
   ],
   "source": [
    "qconfig_int2 = QConfig(\n",
    "    activation=MinMaxObserver.with_args(\n",
    "        dtype=torch.quint8,\n",
    "        quant_min=0,\n",
    "        quant_max=3\n",
    "    ),\n",
    "    weight=MinMaxObserver.with_args(\n",
    "        dtype=torch.qint8,\n",
    "        quant_min=-2,\n",
    "        quant_max=1\n",
    "    )\n",
    ")\n",
    "    \n",
    "ResNetPTQint2 = torch.quantization.QuantWrapper(\n",
    "    copy.deepcopy(ResNet)\n",
    ")\n",
    "\n",
    "ResNetPTQint2.qconfig = qconfig_int2\n",
    "torch.quantization.prepare(ResNetPTQint2, inplace=True)\n",
    "\n",
    "print(\"Compute Statistics\")\n",
    "ce, acc = validate(qloader, ResNetPTQint2, CELoss, Acc, cfg[\"q_device\"], verbose=True)\n",
    "_ = torch.quantization.convert(ResNetPTQint2, inplace=True)\n",
    "\n",
    "print(\"Evaluate\")\n",
    "ce, acc = validate(testloader, ResNetPTQint2, CELoss, Acc, cfg[\"q_device\"], verbose=True)\n",
    "print(\"Cross Entropy: {:.3f}, Accuracy: {:.3f}\".format(ce.avg, acc.avg))\n",
    "\n",
    "torch.save(ResNetPTQint2.state_dict(), cfg[\"checkpoint_path\"]+\"_int2\")"
   ]
  },
  {
   "cell_type": "code",
   "execution_count": 15,
   "metadata": {},
   "outputs": [
    {
     "name": "stdout",
     "output_type": "stream",
     "text": [
      "Compute Statistics\n"
     ]
    },
    {
     "name": "stderr",
     "output_type": "stream",
     "text": [
      "100%|██████████| 1/1 [00:00<00:00,  1.30it/s]\n"
     ]
    },
    {
     "name": "stdout",
     "output_type": "stream",
     "text": [
      "Evaluate\n"
     ]
    },
    {
     "name": "stderr",
     "output_type": "stream",
     "text": [
      "100%|██████████| 10/10 [00:22<00:00,  2.30s/it]"
     ]
    },
    {
     "name": "stdout",
     "output_type": "stream",
     "text": [
      "Cross Entropy: 8.848, Accuracy: 0.296\n"
     ]
    },
    {
     "name": "stderr",
     "output_type": "stream",
     "text": [
      "\n"
     ]
    }
   ],
   "source": [
    "qconfig_int4 = torch.quantization.qconfig.QConfig(\n",
    "    activation=MinMaxObserver.with_args(\n",
    "        dtype=torch.quint8,\n",
    "        quant_min=0,\n",
    "        quant_max=15\n",
    "    ),\n",
    "    weight=MinMaxObserver.with_args(\n",
    "        dtype=torch.qint8,\n",
    "        quant_min =-8,\n",
    "        quant_max =7,\n",
    "    )\n",
    ")\n",
    "\n",
    "ResNetPTQint4 = torch.quantization.QuantWrapper(\n",
    "    copy.deepcopy(ResNet)\n",
    ")\n",
    "\n",
    "ResNetPTQint4.qconfig = qconfig_int4\n",
    "torch.quantization.prepare(ResNetPTQint4, inplace=True)\n",
    "\n",
    "print(\"Compute Statistics\")\n",
    "ce, acc = validate(qloader, ResNetPTQint4, CELoss, Acc, cfg[\"q_device\"], verbose=True)\n",
    "_ = torch.quantization.convert(ResNetPTQint4, inplace=True)\n",
    "print(\"Evaluate\")\n",
    "ce, acc = validate(testloader, ResNetPTQint4, CELoss, Acc, cfg[\"q_device\"], verbose=True)\n",
    "print(\"Cross Entropy: {:.3f}, Accuracy: {:.3f}\".format(ce.avg, acc.avg))\n",
    "\n",
    "torch.save(ResNetPTQint4.state_dict(), cfg[\"checkpoint_path\"]+\"_int4\")"
   ]
  },
  {
   "cell_type": "code",
   "execution_count": 16,
   "metadata": {},
   "outputs": [
    {
     "name": "stdout",
     "output_type": "stream",
     "text": [
      "Compute Statistics\n"
     ]
    },
    {
     "name": "stderr",
     "output_type": "stream",
     "text": [
      "100%|██████████| 1/1 [00:00<00:00,  1.06it/s]\n"
     ]
    },
    {
     "name": "stdout",
     "output_type": "stream",
     "text": [
      "Evaluate\n"
     ]
    },
    {
     "name": "stderr",
     "output_type": "stream",
     "text": [
      "100%|██████████| 10/10 [00:23<00:00,  2.30s/it]"
     ]
    },
    {
     "name": "stdout",
     "output_type": "stream",
     "text": [
      "Cross Entropy: 0.411, Accuracy: 0.881\n"
     ]
    },
    {
     "name": "stderr",
     "output_type": "stream",
     "text": [
      "\n"
     ]
    }
   ],
   "source": [
    "qconfig_int8 = torch.quantization.qconfig.QConfig(\n",
    "    activation=MinMaxObserver.with_args(\n",
    "        dtype=torch.quint8\n",
    "    ),\n",
    "    weight=MinMaxObserver.with_args(\n",
    "        dtype=torch.qint8\n",
    "    )\n",
    ")\n",
    "\n",
    "ResNetPTQint8 = torch.quantization.QuantWrapper(\n",
    "    copy.deepcopy(ResNet)\n",
    ")\n",
    "\n",
    "ResNetPTQint8.qconfig = qconfig_int8\n",
    "torch.quantization.prepare(ResNetPTQint8, inplace=True)\n",
    "\n",
    "print(\"Compute Statistics\")\n",
    "ResNetPTQint8.eval()\n",
    "ce, acc = validate(qloader, ResNetPTQint8, CELoss, Acc, cfg[\"q_device\"], verbose=True)\n",
    "_ = torch.quantization.convert(ResNetPTQint8, inplace=True)\n",
    "ResNetPTQint8.eval()\n",
    "print(\"Evaluate\")\n",
    "ce, acc = validate(testloader, ResNetPTQint8, CELoss, Acc, cfg[\"q_device\"], verbose=True)\n",
    "print(\"Cross Entropy: {:.3f}, Accuracy: {:.3f}\".format(ce.avg, acc.avg))\n",
    "\n",
    "torch.save(ResNetPTQint8.state_dict(), cfg[\"checkpoint_path\"]+\"_int8\")"
   ]
  },
  {
   "cell_type": "code",
   "execution_count": 17,
   "metadata": {},
   "outputs": [
    {
     "name": "stdout",
     "output_type": "stream",
     "text": [
      "Compute Statistics\n"
     ]
    },
    {
     "name": "stderr",
     "output_type": "stream",
     "text": [
      "100%|██████████| 1/1 [00:00<00:00,  1.17it/s]\n"
     ]
    },
    {
     "name": "stdout",
     "output_type": "stream",
     "text": [
      "Evaluate\n"
     ]
    },
    {
     "name": "stderr",
     "output_type": "stream",
     "text": [
      "100%|██████████| 10/10 [00:15<00:00,  1.60s/it]"
     ]
    },
    {
     "name": "stdout",
     "output_type": "stream",
     "text": [
      "Cross Entropy: 0.290, Accuracy: 0.913\n"
     ]
    },
    {
     "name": "stderr",
     "output_type": "stream",
     "text": [
      "\n"
     ]
    }
   ],
   "source": [
    "qconfig_int8 = torch.quantization.qconfig.QConfig(\n",
    "    activation=MinMaxObserver.with_args(\n",
    "        dtype=torch.quint8\n",
    "    ),\n",
    "    weight=MinMaxObserver.with_args(\n",
    "        dtype=torch.qint8\n",
    "    )\n",
    ")\n",
    "\n",
    "ResNetPTQFuseint8 = copy.deepcopy(ResNet)\n",
    "\n",
    "modules_to_fuse = [\n",
    "['0','1', '2'],\n",
    "\n",
    "['3.f.0', '3.f.1','3.f.2'], ['3.f.3', '3.f.4',],\n",
    "['4.f.0', '4.f.1','4.f.2'], ['4.f.3', '4.f.4',],\n",
    "['5.f.0', '5.f.1','5.f.2'], ['5.f.3', '5.f.4',],\n",
    "\n",
    "['6.f.0', '6.f.1','6.f.2'], ['6.f.3', '6.f.4',],\n",
    "['6.c.0','6.c.1'],\n",
    "\n",
    "['7.f.0', '7.f.1','7.f.2'], ['7.f.3', '7.f.4',],\n",
    "['8.f.0', '8.f.1','8.f.2'], ['8.f.3', '8.f.4',],\n",
    "['9.f.0', '9.f.1','9.f.2'], ['9.f.3', '9.f.4',],\n",
    "\n",
    "['10.f.0', '10.f.1','10.f.2'], ['10.f.3', '10.f.4',],\n",
    "['10.c.0','10.c.1'],\n",
    "\n",
    "['11.f.0', '11.f.1','11.f.2'], ['11.f.3', '11.f.4',],\n",
    "['12.f.0', '12.f.1','12.f.2'], ['12.f.3', '12.f.4',],\n",
    "['13.f.0', '13.f.1','13.f.2'], ['13.f.3', '13.f.4',]\n",
    "]\n",
    "\n",
    "torch.quantization.fuse_modules(ResNetPTQFuseint8, modules_to_fuse, inplace=True)\n",
    "ResNetPTQFuseint8 = torch.quantization.QuantWrapper(\n",
    "    ResNetPTQFuseint8\n",
    ")\n",
    "\n",
    "ResNetPTQFuseint8.qconfig = qconfig_int8\n",
    "torch.quantization.prepare(ResNetPTQFuseint8, inplace=True)\n",
    "\n",
    "print(\"Compute Statistics\")\n",
    "ResNetPTQFuseint8.eval()\n",
    "ce, acc = validate(qloader, ResNetPTQFuseint8, CELoss, Acc, cfg[\"q_device\"], verbose=True)\n",
    "_ = torch.quantization.convert(ResNetPTQFuseint8, inplace=True)\n",
    "ResNetPTQFuseint8.eval()\n",
    "print(\"Evaluate\")\n",
    "ce, acc = validate(testloader, ResNetPTQFuseint8, CELoss, Acc, cfg[\"q_device\"], verbose=True)\n",
    "print(\"Cross Entropy: {:.3f}, Accuracy: {:.3f}\".format(ce.avg, acc.avg))\n",
    "\n",
    "torch.save(ResNetPTQFuseint8.state_dict(), cfg[\"checkpoint_path\"]+\"_int8\")"
   ]
  },
  {
   "cell_type": "code",
   "execution_count": 18,
   "metadata": {},
   "outputs": [
    {
     "name": "stdout",
     "output_type": "stream",
     "text": [
      "Evaluate\n"
     ]
    },
    {
     "name": "stderr",
     "output_type": "stream",
     "text": [
      "100%|██████████| 1/1 [00:00<00:00,  1.14it/s]\n",
      "100%|██████████| 10/10 [00:16<00:00,  1.65s/it]"
     ]
    },
    {
     "name": "stdout",
     "output_type": "stream",
     "text": [
      "Cross Entropy: 0.288, Accuracy: 0.914\n"
     ]
    },
    {
     "name": "stderr",
     "output_type": "stream",
     "text": [
      "\n"
     ]
    }
   ],
   "source": [
    "QuantizedNN = quantize_merge_model(ResNet)\n",
    "print(\"Evaluate\")\n",
    "ce, acc = validate(qloader, QuantizedNN, CELoss, Acc, cfg[\"q_device\"], verbose=True)\n",
    "QuantizedNN.apply(compile_module)\n",
    "ce, acc = validate(testloader, QuantizedNN, CELoss, Acc, cfg[\"q_device\"], verbose=True)\n",
    "print(\"Cross Entropy: {:.3f}, Accuracy: {:.3f}\".format(ce.avg, acc.avg))"
   ]
  },
  {
   "cell_type": "markdown",
   "metadata": {},
   "source": [
    "#### Compare size and speed execution"
   ]
  },
  {
   "cell_type": "code",
   "execution_count": 19,
   "metadata": {},
   "outputs": [
    {
     "name": "stdout",
     "output_type": "stream",
     "text": [
      "--------------------------------------------------------------------\n",
      "---------------------------Original Model---------------------------\n",
      "--------------------------------------------------------------------\n",
      "Size: 1.596 MB\n"
     ]
    },
    {
     "name": "stderr",
     "output_type": "stream",
     "text": [
      "Time 39.570s ± 0.862s: 100%|██████████| 5/5 [03:17<00:00, 39.57s/it]\n"
     ]
    },
    {
     "name": "stdout",
     "output_type": "stream",
     "text": [
      "--------------------------------------------------------------------\n",
      "-----------------------Pytorch Quantized Model----------------------\n",
      "--------------------------------------------------------------------\n",
      "Size: 0.485 MB\n"
     ]
    },
    {
     "name": "stderr",
     "output_type": "stream",
     "text": [
      "Time 22.974s ± 0.332s: 100%|██████████| 5/5 [01:54<00:00, 22.98s/it]\n"
     ]
    },
    {
     "name": "stdout",
     "output_type": "stream",
     "text": [
      "--------------------------------------------------------------------\n",
      "------------------Pytorch Fused Quantized Model---------------------\n",
      "--------------------------------------------------------------------\n",
      "Size: 0.430 MB\n"
     ]
    },
    {
     "name": "stderr",
     "output_type": "stream",
     "text": [
      "Time 15.628s ± 0.179s: 100%|██████████| 5/5 [01:18<00:00, 15.63s/it]\n"
     ]
    },
    {
     "name": "stdout",
     "output_type": "stream",
     "text": [
      "--------------------------------------------------------------------\n",
      "---------------------Hands-on Quantized Model-----------------------\n",
      "--------------------------------------------------------------------\n",
      "Size: 0.425 MB\n"
     ]
    },
    {
     "name": "stderr",
     "output_type": "stream",
     "text": [
      "Time 16.834s ± 0.339s: 100%|██████████| 5/5 [01:24<00:00, 16.84s/it]\n"
     ]
    }
   ],
   "source": [
    "print(\"--------------------------------------------------------------------\")\n",
    "print(\"---------------------------Original Model---------------------------\")\n",
    "print(\"--------------------------------------------------------------------\")\n",
    "print(\"Size: {:.3f} MB\".format(get_model_size(ResNet)))\n",
    "time_norm = []\n",
    "for i in (pbar := tqdm(range(5))):\n",
    "    start_time = time()\n",
    "    validate(testloader, ResNet, CELoss, Acc, cfg[\"q_device\"])\n",
    "    time_norm.append(time() - start_time)\n",
    "    pbar.set_description('Time {:.3f}s \\u00B1 {:.3f}s'.format(np.mean(time_norm), np.std(time_norm)))\n",
    "\n",
    "print(\"--------------------------------------------------------------------\")\n",
    "print(\"-----------------------Pytorch Quantized Model----------------------\")\n",
    "print(\"--------------------------------------------------------------------\")\n",
    "print(\"Size: {:.3f} MB\".format(get_model_size(ResNetPTQint8)))\n",
    "time_quant = []\n",
    "for i in (pbar := tqdm(range(5))):\n",
    "    start_time = time()\n",
    "    validate(testloader, ResNetPTQint8, CELoss, Acc, cfg[\"q_device\"])\n",
    "    time_quant.append(time() - start_time)\n",
    "    pbar.set_description('Time {:.3f}s \\u00B1 {:.3f}s'.format(np.mean(time_quant), np.std(time_quant)))\n",
    "\n",
    "print(\"--------------------------------------------------------------------\")\n",
    "print(\"------------------Pytorch Fused Quantized Model---------------------\")\n",
    "print(\"--------------------------------------------------------------------\")\n",
    "print(\"Size: {:.3f} MB\".format(get_model_size(ResNetPTQFuseint8)))\n",
    "time_quant = []\n",
    "for i in (pbar := tqdm(range(5))):\n",
    "    start_time = time()\n",
    "    validate(testloader, ResNetPTQFuseint8, CELoss, Acc, cfg[\"q_device\"])\n",
    "    time_quant.append(time() - start_time)\n",
    "    pbar.set_description('Time {:.3f}s \\u00B1 {:.3f}s'.format(np.mean(time_quant), np.std(time_quant)))\n",
    "\n",
    "print(\"--------------------------------------------------------------------\")\n",
    "print(\"---------------------Hands-on Quantized Model-----------------------\")\n",
    "print(\"--------------------------------------------------------------------\")\n",
    "print(\"Size: {:.3f} MB\".format(get_model_size(QuantizedNN)))\n",
    "time_quant = []\n",
    "for i in (pbar := tqdm(range(5))):\n",
    "    start_time = time()\n",
    "    validate(testloader, QuantizedNN, CELoss, Acc, cfg[\"q_device\"])\n",
    "    time_quant.append(time() - start_time)\n",
    "    pbar.set_description('Time {:.3f}s \\u00B1 {:.3f}s'.format(np.mean(time_quant), np.std(time_quant)))"
   ]
  }
 ],
 "metadata": {
  "interpreter": {
   "hash": "40d3a090f54c6569ab1632332b64b2c03c39dcf918b08424e98f38b5ae0af88f"
  },
  "kernelspec": {
   "display_name": "Python 3.9.7 ('base')",
   "language": "python",
   "name": "python3"
  },
  "language_info": {
   "codemirror_mode": {
    "name": "ipython",
    "version": 3
   },
   "file_extension": ".py",
   "mimetype": "text/x-python",
   "name": "python",
   "nbconvert_exporter": "python",
   "pygments_lexer": "ipython3",
   "version": "3.9.7"
  }
 },
 "nbformat": 4,
 "nbformat_minor": 4
}
