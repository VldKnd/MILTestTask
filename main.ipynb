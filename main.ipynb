{
 "cells": [
  {
   "cell_type": "code",
   "execution_count": 5,
   "id": "edf2df96",
   "metadata": {},
   "outputs": [],
   "source": [
    "import torch\n",
    "from torch import nn\n",
    "from torchvision.datasets import CIFAR10\n",
    "from torch.utils.data import DataLoader"
   ]
  },
  {
   "cell_type": "code",
   "execution_count": 4,
   "id": "5285c3b6",
   "metadata": {},
   "outputs": [],
   "source": [
    "class SkipConnection(torch.nn.Module):\n",
    "    def __init__(self, f_m, f_s=None):\n",
    "        \"\"\"\n",
    "        Description\n",
    "        \"\"\"\n",
    "        super().__init__()\n",
    "        self.f_m = f_m\n",
    "        self.f_s = f_s\n",
    "        self.relu = nn.ReLU()\n",
    "        \n",
    "    def forward(self, X):\n",
    "        \"\"\"\n",
    "        Description\n",
    "        \"\"\"\n",
    "        if self.f_s is not None:\n",
    "            return self.relu(self.f_s(X) + self.f_m(X))\n",
    "        else:\n",
    "            return self.relu(X + self.f_m(X))"
   ]
  },
  {
   "cell_type": "code",
   "execution_count": null,
   "id": "b55fe7b1",
   "metadata": {},
   "outputs": [],
   "source": [
    "trainset = CIFAR10(root='./data', train=True,\n",
    "                                        download=True)\n",
    "trainloader = DataLoader(trainset, batch_size=batch_size,\n",
    "                                          shuffle=True, num_workers=2)\n",
    "\n",
    "testset = CIFAR10(root='./data', train=False,\n",
    "                                       download=True)\n",
    "testloader = DataLoader(testset, batch_size=batch_size,\n",
    "                                         shuffle=False)\n",
    "\n",
    "classes = ('plane', 'car', 'bird', 'cat',\n",
    "           'deer', 'dog', 'frog', 'horse', 'ship', 'truck')"
   ]
  }
 ],
 "metadata": {
  "kernelspec": {
   "display_name": "Python 3 (ipykernel)",
   "language": "python",
   "name": "python3"
  },
  "language_info": {
   "codemirror_mode": {
    "name": "ipython",
    "version": 3
   },
   "file_extension": ".py",
   "mimetype": "text/x-python",
   "name": "python",
   "nbconvert_exporter": "python",
   "pygments_lexer": "ipython3",
   "version": "3.9.7"
  }
 },
 "nbformat": 4,
 "nbformat_minor": 5
}
